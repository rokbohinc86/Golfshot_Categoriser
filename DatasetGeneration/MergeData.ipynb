{
 "cells": [
  {
   "cell_type": "markdown",
   "metadata": {},
   "source": [
    "## Libraries"
   ]
  },
  {
   "cell_type": "code",
   "execution_count": 6,
   "metadata": {},
   "outputs": [],
   "source": [
    "import os\n",
    "import re\n",
    "import pandas as pd\n",
    "import datetime"
   ]
  },
  {
   "cell_type": "markdown",
   "metadata": {},
   "source": [
    "## Metrics "
   ]
  },
  {
   "cell_type": "code",
   "execution_count": 8,
   "metadata": {},
   "outputs": [],
   "source": [
    "# Import file\n",
    "metricsFolder = \"/Users/rokbohinc/Documents/Work/Golf_AI/Golfshot_Categoriser/data/extracted/metrics/MergedMetrics.csv\"\n",
    "df_metrics = pd.read_csv(metricsFolder, header=[0], skiprows=[1])\n",
    "\n",
    "# Format date\n",
    "df_metrics['Date'] = pd.to_datetime(df_metrics['Date'])"
   ]
  },
  {
   "cell_type": "code",
   "execution_count": 9,
   "metadata": {},
   "outputs": [
    {
     "data": {
      "text/html": [
       "<div>\n",
       "<style scoped>\n",
       "    .dataframe tbody tr th:only-of-type {\n",
       "        vertical-align: middle;\n",
       "    }\n",
       "\n",
       "    .dataframe tbody tr th {\n",
       "        vertical-align: top;\n",
       "    }\n",
       "\n",
       "    .dataframe thead th {\n",
       "        text-align: right;\n",
       "    }\n",
       "</style>\n",
       "<table border=\"1\" class=\"dataframe\">\n",
       "  <thead>\n",
       "    <tr style=\"text-align: right;\">\n",
       "      <th></th>\n",
       "      <th>Unnamed: 0</th>\n",
       "      <th>Date</th>\n",
       "      <th>Player</th>\n",
       "      <th>Club Name</th>\n",
       "      <th>Club Type</th>\n",
       "      <th>Club Speed</th>\n",
       "      <th>Attack Angle</th>\n",
       "      <th>Club Path</th>\n",
       "      <th>Club Face</th>\n",
       "      <th>Face to Path</th>\n",
       "      <th>...</th>\n",
       "      <th>Carry Deviation Distance</th>\n",
       "      <th>Total Distance</th>\n",
       "      <th>Total Deviation Angle</th>\n",
       "      <th>Total Deviation Distance</th>\n",
       "      <th>Note</th>\n",
       "      <th>Tag</th>\n",
       "      <th>Air Density</th>\n",
       "      <th>Temperature</th>\n",
       "      <th>Air Pressure</th>\n",
       "      <th>Relative Humidity</th>\n",
       "    </tr>\n",
       "  </thead>\n",
       "  <tbody>\n",
       "    <tr>\n",
       "      <th>0</th>\n",
       "      <td>1</td>\n",
       "      <td>2022-11-26 11:48:50</td>\n",
       "      <td>Rok</td>\n",
       "      <td>7I XXIO eleven</td>\n",
       "      <td>7 Iron</td>\n",
       "      <td>120.275997</td>\n",
       "      <td>0.39</td>\n",
       "      <td>2.47</td>\n",
       "      <td>2.50</td>\n",
       "      <td>0.03</td>\n",
       "      <td>...</td>\n",
       "      <td>5.670000</td>\n",
       "      <td>142.380005</td>\n",
       "      <td>2.44</td>\n",
       "      <td>6.070000</td>\n",
       "      <td>NaN</td>\n",
       "      <td>NaN</td>\n",
       "      <td>1.225398</td>\n",
       "      <td>4.44</td>\n",
       "      <td>97.95</td>\n",
       "      <td>97</td>\n",
       "    </tr>\n",
       "    <tr>\n",
       "      <th>1</th>\n",
       "      <td>2</td>\n",
       "      <td>2022-11-26 11:49:10</td>\n",
       "      <td>Rok</td>\n",
       "      <td>7I XXIO eleven</td>\n",
       "      <td>7 Iron</td>\n",
       "      <td>109.547997</td>\n",
       "      <td>1.72</td>\n",
       "      <td>3.89</td>\n",
       "      <td>-8.71</td>\n",
       "      <td>-12.60</td>\n",
       "      <td>...</td>\n",
       "      <td>-27.469999</td>\n",
       "      <td>138.589996</td>\n",
       "      <td>-13.35</td>\n",
       "      <td>-32.009998</td>\n",
       "      <td>NaN</td>\n",
       "      <td>NaN</td>\n",
       "      <td>1.225398</td>\n",
       "      <td>4.44</td>\n",
       "      <td>97.95</td>\n",
       "      <td>97</td>\n",
       "    </tr>\n",
       "    <tr>\n",
       "      <th>2</th>\n",
       "      <td>3</td>\n",
       "      <td>2022-11-26 11:57:38</td>\n",
       "      <td>Rok</td>\n",
       "      <td>7I XXIO eleven</td>\n",
       "      <td>7 Iron</td>\n",
       "      <td>103.247997</td>\n",
       "      <td>-2.69</td>\n",
       "      <td>6.23</td>\n",
       "      <td>5.91</td>\n",
       "      <td>-0.32</td>\n",
       "      <td>...</td>\n",
       "      <td>8.720000</td>\n",
       "      <td>101.930000</td>\n",
       "      <td>5.56</td>\n",
       "      <td>9.870000</td>\n",
       "      <td>NaN</td>\n",
       "      <td>BAD</td>\n",
       "      <td>1.225398</td>\n",
       "      <td>4.44</td>\n",
       "      <td>97.95</td>\n",
       "      <td>97</td>\n",
       "    </tr>\n",
       "  </tbody>\n",
       "</table>\n",
       "<p>3 rows × 32 columns</p>\n",
       "</div>"
      ],
      "text/plain": [
       "   Unnamed: 0                Date Player       Club Name Club Type  \\\n",
       "0           1 2022-11-26 11:48:50    Rok  7I XXIO eleven    7 Iron   \n",
       "1           2 2022-11-26 11:49:10    Rok  7I XXIO eleven    7 Iron   \n",
       "2           3 2022-11-26 11:57:38    Rok  7I XXIO eleven    7 Iron   \n",
       "\n",
       "   Club Speed  Attack Angle  Club Path  Club Face  Face to Path  ...  \\\n",
       "0  120.275997          0.39       2.47       2.50          0.03  ...   \n",
       "1  109.547997          1.72       3.89      -8.71        -12.60  ...   \n",
       "2  103.247997         -2.69       6.23       5.91         -0.32  ...   \n",
       "\n",
       "   Carry Deviation Distance  Total Distance  Total Deviation Angle  \\\n",
       "0                  5.670000      142.380005                   2.44   \n",
       "1                -27.469999      138.589996                 -13.35   \n",
       "2                  8.720000      101.930000                   5.56   \n",
       "\n",
       "   Total Deviation Distance  Note  Tag  Air Density Temperature  Air Pressure  \\\n",
       "0                  6.070000   NaN  NaN     1.225398        4.44         97.95   \n",
       "1                -32.009998   NaN  NaN     1.225398        4.44         97.95   \n",
       "2                  9.870000   NaN  BAD     1.225398        4.44         97.95   \n",
       "\n",
       "   Relative Humidity  \n",
       "0                 97  \n",
       "1                 97  \n",
       "2                 97  \n",
       "\n",
       "[3 rows x 32 columns]"
      ]
     },
     "execution_count": 9,
     "metadata": {},
     "output_type": "execute_result"
    }
   ],
   "source": [
    "df_metrics.head(3)"
   ]
  },
  {
   "cell_type": "code",
   "execution_count": 21,
   "metadata": {},
   "outputs": [
    {
     "data": {
      "text/plain": [
       "(1647, 32)"
      ]
     },
     "execution_count": 21,
     "metadata": {},
     "output_type": "execute_result"
    }
   ],
   "source": [
    "df_metrics.shape"
   ]
  },
  {
   "cell_type": "markdown",
   "metadata": {},
   "source": [
    "## Videos"
   ]
  },
  {
   "cell_type": "code",
   "execution_count": 10,
   "metadata": {},
   "outputs": [],
   "source": [
    "videosFolder = \"/Users/rokbohinc/Documents/Work/Golf_AI/Golfshot_Categoriser/data/raw/Videos\"\n",
    "\n",
    "video_paths = []\n",
    "# Walk through all subdirectories and collect file paths\n",
    "for root, dirs, files in os.walk(videosFolder):\n",
    "    for file in files:\n",
    "        if file.endswith(\".mp4\"):\n",
    "            video_paths.append(os.path.join(root, file))\n",
    "\n",
    "df_videos = pd.DataFrame({'videoPath': video_paths})\n",
    "df_videos['Date'] = [datetime.datetime.fromtimestamp(os.path.getmtime(path)) for path in df_videos['videoPath']]\n",
    "df_videos = df_videos.sort_values(by='Date')"
   ]
  },
  {
   "cell_type": "code",
   "execution_count": 11,
   "metadata": {},
   "outputs": [
    {
     "data": {
      "text/html": [
       "<div>\n",
       "<style scoped>\n",
       "    .dataframe tbody tr th:only-of-type {\n",
       "        vertical-align: middle;\n",
       "    }\n",
       "\n",
       "    .dataframe tbody tr th {\n",
       "        vertical-align: top;\n",
       "    }\n",
       "\n",
       "    .dataframe thead th {\n",
       "        text-align: right;\n",
       "    }\n",
       "</style>\n",
       "<table border=\"1\" class=\"dataframe\">\n",
       "  <thead>\n",
       "    <tr style=\"text-align: right;\">\n",
       "      <th></th>\n",
       "      <th>videoPath</th>\n",
       "      <th>Date</th>\n",
       "    </tr>\n",
       "  </thead>\n",
       "  <tbody>\n",
       "    <tr>\n",
       "      <th>256</th>\n",
       "      <td>/Users/rokbohinc/Documents/Work/Golf_AI/Golfsh...</td>\n",
       "      <td>2022-11-29 17:24:40</td>\n",
       "    </tr>\n",
       "    <tr>\n",
       "      <th>258</th>\n",
       "      <td>/Users/rokbohinc/Documents/Work/Golf_AI/Golfsh...</td>\n",
       "      <td>2022-11-29 17:24:52</td>\n",
       "    </tr>\n",
       "    <tr>\n",
       "      <th>257</th>\n",
       "      <td>/Users/rokbohinc/Documents/Work/Golf_AI/Golfsh...</td>\n",
       "      <td>2022-11-29 17:26:04</td>\n",
       "    </tr>\n",
       "    <tr>\n",
       "      <th>604</th>\n",
       "      <td>/Users/rokbohinc/Documents/Work/Golf_AI/Golfsh...</td>\n",
       "      <td>2022-12-24 11:13:58</td>\n",
       "    </tr>\n",
       "    <tr>\n",
       "      <th>606</th>\n",
       "      <td>/Users/rokbohinc/Documents/Work/Golf_AI/Golfsh...</td>\n",
       "      <td>2022-12-24 11:15:04</td>\n",
       "    </tr>\n",
       "    <tr>\n",
       "      <th>...</th>\n",
       "      <td>...</td>\n",
       "      <td>...</td>\n",
       "    </tr>\n",
       "    <tr>\n",
       "      <th>403</th>\n",
       "      <td>/Users/rokbohinc/Documents/Work/Golf_AI/Golfsh...</td>\n",
       "      <td>2024-04-16 16:49:01</td>\n",
       "    </tr>\n",
       "    <tr>\n",
       "      <th>402</th>\n",
       "      <td>/Users/rokbohinc/Documents/Work/Golf_AI/Golfsh...</td>\n",
       "      <td>2024-04-16 16:49:37</td>\n",
       "    </tr>\n",
       "    <tr>\n",
       "      <th>400</th>\n",
       "      <td>/Users/rokbohinc/Documents/Work/Golf_AI/Golfsh...</td>\n",
       "      <td>2024-04-16 16:50:38</td>\n",
       "    </tr>\n",
       "    <tr>\n",
       "      <th>401</th>\n",
       "      <td>/Users/rokbohinc/Documents/Work/Golf_AI/Golfsh...</td>\n",
       "      <td>2024-04-16 16:51:23</td>\n",
       "    </tr>\n",
       "    <tr>\n",
       "      <th>396</th>\n",
       "      <td>/Users/rokbohinc/Documents/Work/Golf_AI/Golfsh...</td>\n",
       "      <td>2024-04-16 16:51:59</td>\n",
       "    </tr>\n",
       "  </tbody>\n",
       "</table>\n",
       "<p>753 rows × 2 columns</p>\n",
       "</div>"
      ],
      "text/plain": [
       "                                             videoPath                Date\n",
       "256  /Users/rokbohinc/Documents/Work/Golf_AI/Golfsh... 2022-11-29 17:24:40\n",
       "258  /Users/rokbohinc/Documents/Work/Golf_AI/Golfsh... 2022-11-29 17:24:52\n",
       "257  /Users/rokbohinc/Documents/Work/Golf_AI/Golfsh... 2022-11-29 17:26:04\n",
       "604  /Users/rokbohinc/Documents/Work/Golf_AI/Golfsh... 2022-12-24 11:13:58\n",
       "606  /Users/rokbohinc/Documents/Work/Golf_AI/Golfsh... 2022-12-24 11:15:04\n",
       "..                                                 ...                 ...\n",
       "403  /Users/rokbohinc/Documents/Work/Golf_AI/Golfsh... 2024-04-16 16:49:01\n",
       "402  /Users/rokbohinc/Documents/Work/Golf_AI/Golfsh... 2024-04-16 16:49:37\n",
       "400  /Users/rokbohinc/Documents/Work/Golf_AI/Golfsh... 2024-04-16 16:50:38\n",
       "401  /Users/rokbohinc/Documents/Work/Golf_AI/Golfsh... 2024-04-16 16:51:23\n",
       "396  /Users/rokbohinc/Documents/Work/Golf_AI/Golfsh... 2024-04-16 16:51:59\n",
       "\n",
       "[753 rows x 2 columns]"
      ]
     },
     "metadata": {},
     "output_type": "display_data"
    }
   ],
   "source": [
    "display(df_videos)"
   ]
  },
  {
   "cell_type": "code",
   "execution_count": 22,
   "metadata": {},
   "outputs": [
    {
     "data": {
      "text/plain": [
       "(753, 2)"
      ]
     },
     "execution_count": 22,
     "metadata": {},
     "output_type": "execute_result"
    }
   ],
   "source": [
    "df_videos.shape"
   ]
  },
  {
   "cell_type": "markdown",
   "metadata": {},
   "source": [
    "## Merging Metrics and Videos"
   ]
  },
  {
   "cell_type": "markdown",
   "metadata": {},
   "source": [
    "There is a problem with matching the datetime from the metrics data to the creation datetime of the videos. It ocassionally occours that there is a about 1 second difference between the two. Since I don't hit 2 shots in 2 seconds I can round the Date to the nereast 2 secods in order to match correctly occasions when there is 1 s difference."
   ]
  },
  {
   "cell_type": "code",
   "execution_count": 14,
   "metadata": {},
   "outputs": [],
   "source": [
    "merged = pd.merge_asof(df_videos, df_metrics, \n",
    "                               on='Date', \n",
    "                               suffixes=('_videos', '_metrics'), \n",
    "                               tolerance=pd.Timedelta('2s'),\n",
    "                               direction='nearest')\n"
   ]
  },
  {
   "cell_type": "code",
   "execution_count": 15,
   "metadata": {},
   "outputs": [
    {
     "data": {
      "text/html": [
       "<div>\n",
       "<style scoped>\n",
       "    .dataframe tbody tr th:only-of-type {\n",
       "        vertical-align: middle;\n",
       "    }\n",
       "\n",
       "    .dataframe tbody tr th {\n",
       "        vertical-align: top;\n",
       "    }\n",
       "\n",
       "    .dataframe thead th {\n",
       "        text-align: right;\n",
       "    }\n",
       "</style>\n",
       "<table border=\"1\" class=\"dataframe\">\n",
       "  <thead>\n",
       "    <tr style=\"text-align: right;\">\n",
       "      <th></th>\n",
       "      <th>videoPath</th>\n",
       "      <th>Date</th>\n",
       "      <th>Unnamed: 0</th>\n",
       "      <th>Player</th>\n",
       "      <th>Club Name</th>\n",
       "      <th>Club Type</th>\n",
       "      <th>Club Speed</th>\n",
       "      <th>Attack Angle</th>\n",
       "      <th>Club Path</th>\n",
       "      <th>Club Face</th>\n",
       "      <th>...</th>\n",
       "      <th>Carry Deviation Distance</th>\n",
       "      <th>Total Distance</th>\n",
       "      <th>Total Deviation Angle</th>\n",
       "      <th>Total Deviation Distance</th>\n",
       "      <th>Note</th>\n",
       "      <th>Tag</th>\n",
       "      <th>Air Density</th>\n",
       "      <th>Temperature</th>\n",
       "      <th>Air Pressure</th>\n",
       "      <th>Relative Humidity</th>\n",
       "    </tr>\n",
       "  </thead>\n",
       "  <tbody>\n",
       "    <tr>\n",
       "      <th>0</th>\n",
       "      <td>/Users/rokbohinc/Documents/Work/Golf_AI/Golfsh...</td>\n",
       "      <td>2022-11-29 17:24:40</td>\n",
       "      <td>0.0</td>\n",
       "      <td>Rok</td>\n",
       "      <td>SW XXIO eleven</td>\n",
       "      <td>Sand Wedge</td>\n",
       "      <td>0.000000</td>\n",
       "      <td>0.000000</td>\n",
       "      <td>0.000000</td>\n",
       "      <td>0.000000</td>\n",
       "      <td>...</td>\n",
       "      <td>0.630000</td>\n",
       "      <td>16.530001</td>\n",
       "      <td>3.390000</td>\n",
       "      <td>0.980000</td>\n",
       "      <td>NaN</td>\n",
       "      <td>NaN</td>\n",
       "      <td>1.220799</td>\n",
       "      <td>7.220000</td>\n",
       "      <td>98.60000</td>\n",
       "      <td>91.0</td>\n",
       "    </tr>\n",
       "    <tr>\n",
       "      <th>1</th>\n",
       "      <td>/Users/rokbohinc/Documents/Work/Golf_AI/Golfsh...</td>\n",
       "      <td>2022-11-29 17:24:52</td>\n",
       "      <td>1.0</td>\n",
       "      <td>Rok</td>\n",
       "      <td>SW XXIO eleven</td>\n",
       "      <td>Sand Wedge</td>\n",
       "      <td>0.000000</td>\n",
       "      <td>0.000000</td>\n",
       "      <td>0.000000</td>\n",
       "      <td>0.000000</td>\n",
       "      <td>...</td>\n",
       "      <td>-4.120000</td>\n",
       "      <td>24.320000</td>\n",
       "      <td>-12.310000</td>\n",
       "      <td>-5.180000</td>\n",
       "      <td>NaN</td>\n",
       "      <td>NaN</td>\n",
       "      <td>1.220799</td>\n",
       "      <td>7.220000</td>\n",
       "      <td>98.60000</td>\n",
       "      <td>91.0</td>\n",
       "    </tr>\n",
       "    <tr>\n",
       "      <th>2</th>\n",
       "      <td>/Users/rokbohinc/Documents/Work/Golf_AI/Golfsh...</td>\n",
       "      <td>2022-11-29 17:26:04</td>\n",
       "      <td>2.0</td>\n",
       "      <td>Rok</td>\n",
       "      <td>SW XXIO eleven</td>\n",
       "      <td>Sand Wedge</td>\n",
       "      <td>0.000000</td>\n",
       "      <td>0.000000</td>\n",
       "      <td>0.000000</td>\n",
       "      <td>0.000000</td>\n",
       "      <td>...</td>\n",
       "      <td>-0.070000</td>\n",
       "      <td>20.990000</td>\n",
       "      <td>-0.280000</td>\n",
       "      <td>-0.100000</td>\n",
       "      <td>NaN</td>\n",
       "      <td>NaN</td>\n",
       "      <td>1.220799</td>\n",
       "      <td>7.220000</td>\n",
       "      <td>98.60000</td>\n",
       "      <td>91.0</td>\n",
       "    </tr>\n",
       "    <tr>\n",
       "      <th>3</th>\n",
       "      <td>/Users/rokbohinc/Documents/Work/Golf_AI/Golfsh...</td>\n",
       "      <td>2022-12-24 11:13:58</td>\n",
       "      <td>NaN</td>\n",
       "      <td>NaN</td>\n",
       "      <td>NaN</td>\n",
       "      <td>NaN</td>\n",
       "      <td>NaN</td>\n",
       "      <td>NaN</td>\n",
       "      <td>NaN</td>\n",
       "      <td>NaN</td>\n",
       "      <td>...</td>\n",
       "      <td>NaN</td>\n",
       "      <td>NaN</td>\n",
       "      <td>NaN</td>\n",
       "      <td>NaN</td>\n",
       "      <td>NaN</td>\n",
       "      <td>NaN</td>\n",
       "      <td>NaN</td>\n",
       "      <td>NaN</td>\n",
       "      <td>NaN</td>\n",
       "      <td>NaN</td>\n",
       "    </tr>\n",
       "    <tr>\n",
       "      <th>4</th>\n",
       "      <td>/Users/rokbohinc/Documents/Work/Golf_AI/Golfsh...</td>\n",
       "      <td>2022-12-24 11:15:04</td>\n",
       "      <td>NaN</td>\n",
       "      <td>NaN</td>\n",
       "      <td>NaN</td>\n",
       "      <td>NaN</td>\n",
       "      <td>NaN</td>\n",
       "      <td>NaN</td>\n",
       "      <td>NaN</td>\n",
       "      <td>NaN</td>\n",
       "      <td>...</td>\n",
       "      <td>NaN</td>\n",
       "      <td>NaN</td>\n",
       "      <td>NaN</td>\n",
       "      <td>NaN</td>\n",
       "      <td>NaN</td>\n",
       "      <td>NaN</td>\n",
       "      <td>NaN</td>\n",
       "      <td>NaN</td>\n",
       "      <td>NaN</td>\n",
       "      <td>NaN</td>\n",
       "    </tr>\n",
       "    <tr>\n",
       "      <th>...</th>\n",
       "      <td>...</td>\n",
       "      <td>...</td>\n",
       "      <td>...</td>\n",
       "      <td>...</td>\n",
       "      <td>...</td>\n",
       "      <td>...</td>\n",
       "      <td>...</td>\n",
       "      <td>...</td>\n",
       "      <td>...</td>\n",
       "      <td>...</td>\n",
       "      <td>...</td>\n",
       "      <td>...</td>\n",
       "      <td>...</td>\n",
       "      <td>...</td>\n",
       "      <td>...</td>\n",
       "      <td>...</td>\n",
       "      <td>...</td>\n",
       "      <td>...</td>\n",
       "      <td>...</td>\n",
       "      <td>...</td>\n",
       "      <td>...</td>\n",
       "    </tr>\n",
       "    <tr>\n",
       "      <th>748</th>\n",
       "      <td>/Users/rokbohinc/Documents/Work/Golf_AI/Golfsh...</td>\n",
       "      <td>2024-04-16 16:49:01</td>\n",
       "      <td>3.0</td>\n",
       "      <td>Rok</td>\n",
       "      <td>7I XXIO eleven</td>\n",
       "      <td>7 Iron</td>\n",
       "      <td>126.860281</td>\n",
       "      <td>0.220221</td>\n",
       "      <td>-4.572323</td>\n",
       "      <td>-6.394173</td>\n",
       "      <td>...</td>\n",
       "      <td>-27.651789</td>\n",
       "      <td>137.314240</td>\n",
       "      <td>-13.098104</td>\n",
       "      <td>-31.118023</td>\n",
       "      <td>NaN</td>\n",
       "      <td>NaN</td>\n",
       "      <td>1.187058</td>\n",
       "      <td>11.666667</td>\n",
       "      <td>97.38699</td>\n",
       "      <td>65.0</td>\n",
       "    </tr>\n",
       "    <tr>\n",
       "      <th>749</th>\n",
       "      <td>/Users/rokbohinc/Documents/Work/Golf_AI/Golfsh...</td>\n",
       "      <td>2024-04-16 16:49:37</td>\n",
       "      <td>4.0</td>\n",
       "      <td>Rok</td>\n",
       "      <td>7I XXIO eleven</td>\n",
       "      <td>7 Iron</td>\n",
       "      <td>129.611093</td>\n",
       "      <td>-2.145370</td>\n",
       "      <td>2.965698</td>\n",
       "      <td>2.487503</td>\n",
       "      <td>...</td>\n",
       "      <td>-4.815349</td>\n",
       "      <td>116.098564</td>\n",
       "      <td>-3.621420</td>\n",
       "      <td>-7.333233</td>\n",
       "      <td>NaN</td>\n",
       "      <td>NaN</td>\n",
       "      <td>1.187058</td>\n",
       "      <td>11.666667</td>\n",
       "      <td>97.38699</td>\n",
       "      <td>65.0</td>\n",
       "    </tr>\n",
       "    <tr>\n",
       "      <th>750</th>\n",
       "      <td>/Users/rokbohinc/Documents/Work/Golf_AI/Golfsh...</td>\n",
       "      <td>2024-04-16 16:50:38</td>\n",
       "      <td>5.0</td>\n",
       "      <td>Rok</td>\n",
       "      <td>7I XXIO eleven</td>\n",
       "      <td>7 Iron</td>\n",
       "      <td>126.243179</td>\n",
       "      <td>1.511003</td>\n",
       "      <td>0.361320</td>\n",
       "      <td>2.601925</td>\n",
       "      <td>...</td>\n",
       "      <td>-1.366448</td>\n",
       "      <td>110.502029</td>\n",
       "      <td>-1.281306</td>\n",
       "      <td>-2.471094</td>\n",
       "      <td>NaN</td>\n",
       "      <td>NaN</td>\n",
       "      <td>1.187058</td>\n",
       "      <td>11.666667</td>\n",
       "      <td>97.38699</td>\n",
       "      <td>65.0</td>\n",
       "    </tr>\n",
       "    <tr>\n",
       "      <th>751</th>\n",
       "      <td>/Users/rokbohinc/Documents/Work/Golf_AI/Golfsh...</td>\n",
       "      <td>2024-04-16 16:51:23</td>\n",
       "      <td>6.0</td>\n",
       "      <td>Rok</td>\n",
       "      <td>7I XXIO eleven</td>\n",
       "      <td>7 Iron</td>\n",
       "      <td>125.306320</td>\n",
       "      <td>2.557724</td>\n",
       "      <td>1.098738</td>\n",
       "      <td>3.818094</td>\n",
       "      <td>...</td>\n",
       "      <td>14.673410</td>\n",
       "      <td>136.882645</td>\n",
       "      <td>6.723858</td>\n",
       "      <td>16.026850</td>\n",
       "      <td>NaN</td>\n",
       "      <td>NaN</td>\n",
       "      <td>1.187058</td>\n",
       "      <td>11.666667</td>\n",
       "      <td>97.38699</td>\n",
       "      <td>65.0</td>\n",
       "    </tr>\n",
       "    <tr>\n",
       "      <th>752</th>\n",
       "      <td>/Users/rokbohinc/Documents/Work/Golf_AI/Golfsh...</td>\n",
       "      <td>2024-04-16 16:51:59</td>\n",
       "      <td>7.0</td>\n",
       "      <td>Rok</td>\n",
       "      <td>7I XXIO eleven</td>\n",
       "      <td>7 Iron</td>\n",
       "      <td>133.272232</td>\n",
       "      <td>1.104846</td>\n",
       "      <td>-1.102151</td>\n",
       "      <td>-3.399291</td>\n",
       "      <td>...</td>\n",
       "      <td>-12.180740</td>\n",
       "      <td>131.881226</td>\n",
       "      <td>-6.172729</td>\n",
       "      <td>-14.180772</td>\n",
       "      <td>NaN</td>\n",
       "      <td>NaN</td>\n",
       "      <td>1.187058</td>\n",
       "      <td>11.666667</td>\n",
       "      <td>97.38699</td>\n",
       "      <td>65.0</td>\n",
       "    </tr>\n",
       "  </tbody>\n",
       "</table>\n",
       "<p>753 rows × 33 columns</p>\n",
       "</div>"
      ],
      "text/plain": [
       "                                             videoPath                Date  \\\n",
       "0    /Users/rokbohinc/Documents/Work/Golf_AI/Golfsh... 2022-11-29 17:24:40   \n",
       "1    /Users/rokbohinc/Documents/Work/Golf_AI/Golfsh... 2022-11-29 17:24:52   \n",
       "2    /Users/rokbohinc/Documents/Work/Golf_AI/Golfsh... 2022-11-29 17:26:04   \n",
       "3    /Users/rokbohinc/Documents/Work/Golf_AI/Golfsh... 2022-12-24 11:13:58   \n",
       "4    /Users/rokbohinc/Documents/Work/Golf_AI/Golfsh... 2022-12-24 11:15:04   \n",
       "..                                                 ...                 ...   \n",
       "748  /Users/rokbohinc/Documents/Work/Golf_AI/Golfsh... 2024-04-16 16:49:01   \n",
       "749  /Users/rokbohinc/Documents/Work/Golf_AI/Golfsh... 2024-04-16 16:49:37   \n",
       "750  /Users/rokbohinc/Documents/Work/Golf_AI/Golfsh... 2024-04-16 16:50:38   \n",
       "751  /Users/rokbohinc/Documents/Work/Golf_AI/Golfsh... 2024-04-16 16:51:23   \n",
       "752  /Users/rokbohinc/Documents/Work/Golf_AI/Golfsh... 2024-04-16 16:51:59   \n",
       "\n",
       "     Unnamed: 0 Player       Club Name   Club Type  Club Speed  Attack Angle  \\\n",
       "0           0.0    Rok  SW XXIO eleven  Sand Wedge    0.000000      0.000000   \n",
       "1           1.0    Rok  SW XXIO eleven  Sand Wedge    0.000000      0.000000   \n",
       "2           2.0    Rok  SW XXIO eleven  Sand Wedge    0.000000      0.000000   \n",
       "3           NaN    NaN             NaN         NaN         NaN           NaN   \n",
       "4           NaN    NaN             NaN         NaN         NaN           NaN   \n",
       "..          ...    ...             ...         ...         ...           ...   \n",
       "748         3.0    Rok  7I XXIO eleven      7 Iron  126.860281      0.220221   \n",
       "749         4.0    Rok  7I XXIO eleven      7 Iron  129.611093     -2.145370   \n",
       "750         5.0    Rok  7I XXIO eleven      7 Iron  126.243179      1.511003   \n",
       "751         6.0    Rok  7I XXIO eleven      7 Iron  125.306320      2.557724   \n",
       "752         7.0    Rok  7I XXIO eleven      7 Iron  133.272232      1.104846   \n",
       "\n",
       "     Club Path  Club Face  ...  Carry Deviation Distance  Total Distance  \\\n",
       "0     0.000000   0.000000  ...                  0.630000       16.530001   \n",
       "1     0.000000   0.000000  ...                 -4.120000       24.320000   \n",
       "2     0.000000   0.000000  ...                 -0.070000       20.990000   \n",
       "3          NaN        NaN  ...                       NaN             NaN   \n",
       "4          NaN        NaN  ...                       NaN             NaN   \n",
       "..         ...        ...  ...                       ...             ...   \n",
       "748  -4.572323  -6.394173  ...                -27.651789      137.314240   \n",
       "749   2.965698   2.487503  ...                 -4.815349      116.098564   \n",
       "750   0.361320   2.601925  ...                 -1.366448      110.502029   \n",
       "751   1.098738   3.818094  ...                 14.673410      136.882645   \n",
       "752  -1.102151  -3.399291  ...                -12.180740      131.881226   \n",
       "\n",
       "     Total Deviation Angle  Total Deviation Distance  Note  Tag  Air Density  \\\n",
       "0                 3.390000                  0.980000   NaN  NaN     1.220799   \n",
       "1               -12.310000                 -5.180000   NaN  NaN     1.220799   \n",
       "2                -0.280000                 -0.100000   NaN  NaN     1.220799   \n",
       "3                      NaN                       NaN   NaN  NaN          NaN   \n",
       "4                      NaN                       NaN   NaN  NaN          NaN   \n",
       "..                     ...                       ...   ...  ...          ...   \n",
       "748             -13.098104                -31.118023   NaN  NaN     1.187058   \n",
       "749              -3.621420                 -7.333233   NaN  NaN     1.187058   \n",
       "750              -1.281306                 -2.471094   NaN  NaN     1.187058   \n",
       "751               6.723858                 16.026850   NaN  NaN     1.187058   \n",
       "752              -6.172729                -14.180772   NaN  NaN     1.187058   \n",
       "\n",
       "     Temperature Air Pressure  Relative Humidity  \n",
       "0       7.220000     98.60000               91.0  \n",
       "1       7.220000     98.60000               91.0  \n",
       "2       7.220000     98.60000               91.0  \n",
       "3            NaN          NaN                NaN  \n",
       "4            NaN          NaN                NaN  \n",
       "..           ...          ...                ...  \n",
       "748    11.666667     97.38699               65.0  \n",
       "749    11.666667     97.38699               65.0  \n",
       "750    11.666667     97.38699               65.0  \n",
       "751    11.666667     97.38699               65.0  \n",
       "752    11.666667     97.38699               65.0  \n",
       "\n",
       "[753 rows x 33 columns]"
      ]
     },
     "metadata": {},
     "output_type": "display_data"
    }
   ],
   "source": [
    "display(merged)"
   ]
  },
  {
   "cell_type": "markdown",
   "metadata": {},
   "source": [
    "Caclulating the number of missing matches"
   ]
  },
  {
   "cell_type": "code",
   "execution_count": 25,
   "metadata": {},
   "outputs": [
    {
     "data": {
      "text/plain": [
       "74"
      ]
     },
     "execution_count": 25,
     "metadata": {},
     "output_type": "execute_result"
    }
   ],
   "source": [
    "merged[\"Player\"].isna().sum()"
   ]
  },
  {
   "cell_type": "markdown",
   "metadata": {},
   "source": [
    "Number of sucessfull merges"
   ]
  },
  {
   "cell_type": "code",
   "execution_count": 32,
   "metadata": {},
   "outputs": [
    {
     "data": {
      "text/plain": [
       "(679, 33)"
      ]
     },
     "execution_count": 32,
     "metadata": {},
     "output_type": "execute_result"
    }
   ],
   "source": [
    "merged.dropna(subset=[\"Player\"]).shape"
   ]
  },
  {
   "cell_type": "markdown",
   "metadata": {},
   "source": [
    "Number of iron 7 shots"
   ]
  },
  {
   "cell_type": "code",
   "execution_count": 35,
   "metadata": {},
   "outputs": [
    {
     "data": {
      "text/plain": [
       "(410, 33)"
      ]
     },
     "execution_count": 35,
     "metadata": {},
     "output_type": "execute_result"
    }
   ],
   "source": [
    "merged[merged['Club Name'] == \"7I XXIO eleven\"].shape"
   ]
  },
  {
   "cell_type": "markdown",
   "metadata": {},
   "source": [
    "### Determining the shot type"
   ]
  },
  {
   "cell_type": "code",
   "execution_count": 81,
   "metadata": {},
   "outputs": [
    {
     "data": {
      "text/plain": [
       "Direction\n",
       "straight    59\n",
       "pull        44\n",
       "push         6\n",
       "Name: count, dtype: int64"
      ]
     },
     "execution_count": 81,
     "metadata": {},
     "output_type": "execute_result"
    }
   ],
   "source": [
    "def shot_direction(x):\n",
    "    if x < -5:\n",
    "        return \"pull\"\n",
    "    elif x > 5:\n",
    "        return \"push\"\n",
    "    else:\n",
    "        return \"straight\"\n",
    "\n",
    "df[\"Direction\"] = df[\"Launch Direction\"].apply(shot_direction)\n",
    "df[\"Direction\"].value_counts()"
   ]
  },
  {
   "cell_type": "code",
   "execution_count": 86,
   "metadata": {},
   "outputs": [
    {
     "data": {
      "text/plain": [
       "Shape\n",
       "         42\n",
       "draw     27\n",
       "hook     17\n",
       "fade     13\n",
       "slice    10\n",
       "Name: count, dtype: int64"
      ]
     },
     "execution_count": 86,
     "metadata": {},
     "output_type": "execute_result"
    }
   ],
   "source": [
    "def shot_curvature(x):\n",
    "    if x < -800:\n",
    "        return \"hook\"\n",
    "    elif x < -300:\n",
    "        return \"draw\"\n",
    "    elif x < 300:\n",
    "        return \"\"\n",
    "    elif x < 800:\n",
    "        return \"fade\"\n",
    "    else:\n",
    "        return \"slice\"\n",
    "\n",
    "df[\"Shape\"] = df[\"Sidespin\"].apply(shot_curvature)\n",
    "df[\"Shape\"].value_counts()"
   ]
  },
  {
   "cell_type": "code",
   "execution_count": 87,
   "metadata": {},
   "outputs": [
    {
     "data": {
      "text/plain": [
       "ShotType\n",
       "straight-draw    22\n",
       "straight-        21\n",
       "pull-            20\n",
       "straight-hook    12\n",
       "pull-slice       10\n",
       "pull-fade         9\n",
       "push-hook         5\n",
       "pull-draw         5\n",
       "straight-fade     4\n",
       "push-             1\n",
       "Name: count, dtype: int64"
      ]
     },
     "execution_count": 87,
     "metadata": {},
     "output_type": "execute_result"
    }
   ],
   "source": [
    "df[\"ShotType\"] = df[\"Direction\"] + \"-\" + df[\"Shape\"]\n",
    "df[\"ShotType\"].value_counts()"
   ]
  },
  {
   "cell_type": "code",
   "execution_count": 93,
   "metadata": {},
   "outputs": [
    {
     "data": {
      "text/plain": [
       "pandas.core.frame.DataFrame"
      ]
     },
     "execution_count": 93,
     "metadata": {},
     "output_type": "execute_result"
    }
   ],
   "source": [
    "type(df[[\"ShotType\"]])"
   ]
  },
  {
   "cell_type": "code",
   "execution_count": 29,
   "metadata": {},
   "outputs": [
    {
     "name": "stdout",
     "output_type": "stream",
     "text": [
      "['DrivingRange-2024-03-03 13:35:37 +0000.csv', 'DrivingRange-2024-03-03 21:03:28 +0000.csv', 'DrivingRange-2024-03-03 21:06:50 +0000.csv', 'DrivingRange-2024-03-03 21:18:09 +0000.csv', 'DrivingRange-2024-03-03 21:20:14 +0000.csv']\n"
     ]
    }
   ],
   "source": [
    "import os\n",
    "\n",
    "# Specify the directory path\n",
    "metricsFolder = \"/Users/rokbohinc/Documents/Work/Golf_AI/Golfshot_Categoriser/data/raw/Metrics\"\n",
    "labelsFolder = \"/Users/rokbohinc/Documents/Work/Golf_AI/Golfshot_Categoriser/data/extracted/labels\"\n",
    "\n",
    "# List all files in the directory\n",
    "files = [file for file in os.listdir(metricsFolder) if file.endswith(\".csv\")]\n",
    "\n",
    "# Print the list of files\n",
    "print(files)\n"
   ]
  },
  {
   "cell_type": "code",
   "execution_count": 30,
   "metadata": {},
   "outputs": [
    {
     "data": {
      "text/plain": [
       "[('/Users/rokbohinc/Documents/Work/Golf_AI/Golfshot_Categoriser/data/raw/Metrics/DrivingRange-2024-03-03 13:35:37 +0000.csv',\n",
       "  '/Users/rokbohinc/Documents/Work/Golf_AI/Golfshot_Categoriser/data/extracted/labels/DrivingRange-2024-03-03 13:35:37 +0000.csv'),\n",
       " ('/Users/rokbohinc/Documents/Work/Golf_AI/Golfshot_Categoriser/data/raw/Metrics/DrivingRange-2024-03-03 21:03:28 +0000.csv',\n",
       "  '/Users/rokbohinc/Documents/Work/Golf_AI/Golfshot_Categoriser/data/extracted/labels/DrivingRange-2024-03-03 21:03:28 +0000.csv'),\n",
       " ('/Users/rokbohinc/Documents/Work/Golf_AI/Golfshot_Categoriser/data/raw/Metrics/DrivingRange-2024-03-03 21:06:50 +0000.csv',\n",
       "  '/Users/rokbohinc/Documents/Work/Golf_AI/Golfshot_Categoriser/data/extracted/labels/DrivingRange-2024-03-03 21:06:50 +0000.csv'),\n",
       " ('/Users/rokbohinc/Documents/Work/Golf_AI/Golfshot_Categoriser/data/raw/Metrics/DrivingRange-2024-03-03 21:18:09 +0000.csv',\n",
       "  '/Users/rokbohinc/Documents/Work/Golf_AI/Golfshot_Categoriser/data/extracted/labels/DrivingRange-2024-03-03 21:18:09 +0000.csv'),\n",
       " ('/Users/rokbohinc/Documents/Work/Golf_AI/Golfshot_Categoriser/data/raw/Metrics/DrivingRange-2024-03-03 21:20:14 +0000.csv',\n",
       "  '/Users/rokbohinc/Documents/Work/Golf_AI/Golfshot_Categoriser/data/extracted/labels/DrivingRange-2024-03-03 21:20:14 +0000.csv')]"
      ]
     },
     "execution_count": 30,
     "metadata": {},
     "output_type": "execute_result"
    }
   ],
   "source": [
    "filePaths = [(os.path.join(metricsFolder, file), os.path.join(labelsFolder, file)) for file in files]\n",
    "\n",
    "filePaths"
   ]
  },
  {
   "cell_type": "code",
   "execution_count": 32,
   "metadata": {},
   "outputs": [],
   "source": [
    "from labelExtraction import extractLabel\n",
    "\n",
    "for importPath, exportPath in filePaths:\n",
    "    extractLabel(import_path=importPath, export_path=exportPath)"
   ]
  }
 ],
 "metadata": {
  "kernelspec": {
   "display_name": "Python 3",
   "language": "python",
   "name": "python3"
  },
  "language_info": {
   "codemirror_mode": {
    "name": "ipython",
    "version": 3
   },
   "file_extension": ".py",
   "mimetype": "text/x-python",
   "name": "python",
   "nbconvert_exporter": "python",
   "pygments_lexer": "ipython3",
   "version": "3.11.4"
  }
 },
 "nbformat": 4,
 "nbformat_minor": 2
}
