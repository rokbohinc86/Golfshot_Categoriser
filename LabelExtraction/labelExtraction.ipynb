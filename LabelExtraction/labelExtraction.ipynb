{
 "cells": [
  {
   "cell_type": "markdown",
   "metadata": {},
   "source": [
    "## Import Data"
   ]
  },
  {
   "cell_type": "code",
   "execution_count": null,
   "metadata": {},
   "outputs": [],
   "source": [
    "import pandas as pd\n",
    "\n",
    "\n",
    "path = \"/Users/rokbohinc/Documents/Work/Golf_AI/Data/Garmin/Metrics/DrivingRange-2024-03-03 21:18:09 +0000.csv\"\n",
    "df = pd.read_csv(path, header=[0], skiprows=[1])\n",
    "df.head(2)"
   ]
  },
  {
   "cell_type": "code",
   "execution_count": 65,
   "metadata": {},
   "outputs": [
    {
     "name": "stdout",
     "output_type": "stream",
     "text": [
      "<class 'pandas.core.frame.DataFrame'>\n",
      "RangeIndex: 109 entries, 0 to 108\n",
      "Data columns (total 31 columns):\n",
      " #   Column                    Non-Null Count  Dtype  \n",
      "---  ------                    --------------  -----  \n",
      " 0   Date                      109 non-null    object \n",
      " 1   Player                    109 non-null    object \n",
      " 2   Club Name                 109 non-null    object \n",
      " 3   Club Type                 109 non-null    object \n",
      " 4   Club Speed                108 non-null    float64\n",
      " 5   Attack Angle              96 non-null     float64\n",
      " 6   Club Path                 101 non-null    float64\n",
      " 7   Club Face                 100 non-null    float64\n",
      " 8   Face to Path              109 non-null    float64\n",
      " 9   Ball Speed                109 non-null    float64\n",
      " 10  Smash Factor              109 non-null    float64\n",
      " 11  Launch Angle              109 non-null    float64\n",
      " 12  Launch Direction          109 non-null    float64\n",
      " 13  Backspin                  109 non-null    float64\n",
      " 14  Sidespin                  109 non-null    float64\n",
      " 15  Spin Rate                 109 non-null    float64\n",
      " 16  Spin Rate Type            109 non-null    object \n",
      " 17  Spin Axis                 109 non-null    float64\n",
      " 18  Apex Height               109 non-null    float64\n",
      " 19  Carry Distance            109 non-null    float64\n",
      " 20  Carry Deviation Angle     109 non-null    float64\n",
      " 21  Carry Deviation Distance  109 non-null    float64\n",
      " 22  Total Distance            109 non-null    float64\n",
      " 23  Total Deviation Angle     109 non-null    float64\n",
      " 24  Total Deviation Distance  109 non-null    float64\n",
      " 25  Note                      1 non-null      object \n",
      " 26  Tag                       0 non-null      float64\n",
      " 27  Air Density               109 non-null    float64\n",
      " 28  Temperature               109 non-null    float64\n",
      " 29  Air Pressure              109 non-null    float64\n",
      " 30  Relative Humidity         109 non-null    int64  \n",
      "dtypes: float64(24), int64(1), object(6)\n",
      "memory usage: 26.5+ KB\n"
     ]
    }
   ],
   "source": [
    "df.info()"
   ]
  },
  {
   "cell_type": "code",
   "execution_count": 66,
   "metadata": {},
   "outputs": [
    {
     "data": {
      "text/plain": [
       "count     109.000000\n",
       "mean     -147.817247\n",
       "std       688.626705\n",
       "min     -1769.103638\n",
       "25%      -574.234436\n",
       "50%      -159.661133\n",
       "75%       163.954987\n",
       "max      2446.703857\n",
       "Name: Sidespin, dtype: float64"
      ]
     },
     "execution_count": 66,
     "metadata": {},
     "output_type": "execute_result"
    }
   ],
   "source": [
    "df[\"Sidespin\"].describe()"
   ]
  },
  {
   "cell_type": "code",
   "execution_count": 68,
   "metadata": {},
   "outputs": [
    {
     "data": {
      "text/plain": [
       "count    109.000000\n",
       "mean      -3.556225\n",
       "std        6.597858\n",
       "min      -29.190939\n",
       "25%       -7.068419\n",
       "50%       -3.797956\n",
       "75%       -0.182606\n",
       "max       27.343334\n",
       "Name: Launch Direction, dtype: float64"
      ]
     },
     "execution_count": 68,
     "metadata": {},
     "output_type": "execute_result"
    }
   ],
   "source": [
    "df[\"Launch Direction\"].describe()"
   ]
  },
  {
   "cell_type": "markdown",
   "metadata": {},
   "source": [
    "### Determining the shot type"
   ]
  },
  {
   "cell_type": "code",
   "execution_count": 81,
   "metadata": {},
   "outputs": [
    {
     "data": {
      "text/plain": [
       "Direction\n",
       "straight    59\n",
       "pull        44\n",
       "push         6\n",
       "Name: count, dtype: int64"
      ]
     },
     "execution_count": 81,
     "metadata": {},
     "output_type": "execute_result"
    }
   ],
   "source": [
    "def shot_direction(x):\n",
    "    if x < -5:\n",
    "        return \"pull\"\n",
    "    elif x > 5:\n",
    "        return \"push\"\n",
    "    else:\n",
    "        return \"straight\"\n",
    "\n",
    "df[\"Direction\"] = df[\"Launch Direction\"].apply(shot_direction)\n",
    "df[\"Direction\"].value_counts()"
   ]
  },
  {
   "cell_type": "code",
   "execution_count": 86,
   "metadata": {},
   "outputs": [
    {
     "data": {
      "text/plain": [
       "Shape\n",
       "         42\n",
       "draw     27\n",
       "hook     17\n",
       "fade     13\n",
       "slice    10\n",
       "Name: count, dtype: int64"
      ]
     },
     "execution_count": 86,
     "metadata": {},
     "output_type": "execute_result"
    }
   ],
   "source": [
    "def shot_curvature(x):\n",
    "    if x < -800:\n",
    "        return \"hook\"\n",
    "    elif x < -300:\n",
    "        return \"draw\"\n",
    "    elif x < 300:\n",
    "        return \"\"\n",
    "    elif x < 800:\n",
    "        return \"fade\"\n",
    "    else:\n",
    "        return \"slice\"\n",
    "\n",
    "df[\"Shape\"] = df[\"Sidespin\"].apply(shot_curvature)\n",
    "df[\"Shape\"].value_counts()"
   ]
  },
  {
   "cell_type": "code",
   "execution_count": 87,
   "metadata": {},
   "outputs": [
    {
     "data": {
      "text/plain": [
       "ShotType\n",
       "straight-draw    22\n",
       "straight-        21\n",
       "pull-            20\n",
       "straight-hook    12\n",
       "pull-slice       10\n",
       "pull-fade         9\n",
       "push-hook         5\n",
       "pull-draw         5\n",
       "straight-fade     4\n",
       "push-             1\n",
       "Name: count, dtype: int64"
      ]
     },
     "execution_count": 87,
     "metadata": {},
     "output_type": "execute_result"
    }
   ],
   "source": [
    "df[\"ShotType\"] = df[\"Direction\"] + \"-\" + df[\"Shape\"]\n",
    "df[\"ShotType\"].value_counts()"
   ]
  },
  {
   "cell_type": "code",
   "execution_count": 93,
   "metadata": {},
   "outputs": [
    {
     "data": {
      "text/plain": [
       "pandas.core.frame.DataFrame"
      ]
     },
     "execution_count": 93,
     "metadata": {},
     "output_type": "execute_result"
    }
   ],
   "source": [
    "type(df[[\"ShotType\"]])"
   ]
  },
  {
   "cell_type": "markdown",
   "metadata": {},
   "source": [
    "## Metrics Files"
   ]
  },
  {
   "cell_type": "code",
   "execution_count": 29,
   "metadata": {},
   "outputs": [
    {
     "name": "stdout",
     "output_type": "stream",
     "text": [
      "['DrivingRange-2024-03-03 13:35:37 +0000.csv', 'DrivingRange-2024-03-03 21:03:28 +0000.csv', 'DrivingRange-2024-03-03 21:06:50 +0000.csv', 'DrivingRange-2024-03-03 21:18:09 +0000.csv', 'DrivingRange-2024-03-03 21:20:14 +0000.csv']\n"
     ]
    }
   ],
   "source": [
    "import os\n",
    "\n",
    "# Specify the directory path\n",
    "metricsFolder = \"/Users/rokbohinc/Documents/Work/Golf_AI/Golfshot_Categoriser/data/raw/Metrics\"\n",
    "labelsFolder = \"/Users/rokbohinc/Documents/Work/Golf_AI/Golfshot_Categoriser/data/extracted/labels\"\n",
    "\n",
    "# List all files in the directory\n",
    "files = [file for file in os.listdir(metricsFolder) if file.endswith(\".csv\")]\n",
    "\n",
    "# Print the list of files\n",
    "print(files)\n"
   ]
  },
  {
   "cell_type": "code",
   "execution_count": 30,
   "metadata": {},
   "outputs": [
    {
     "data": {
      "text/plain": [
       "[('/Users/rokbohinc/Documents/Work/Golf_AI/Golfshot_Categoriser/data/raw/Metrics/DrivingRange-2024-03-03 13:35:37 +0000.csv',\n",
       "  '/Users/rokbohinc/Documents/Work/Golf_AI/Golfshot_Categoriser/data/extracted/labels/DrivingRange-2024-03-03 13:35:37 +0000.csv'),\n",
       " ('/Users/rokbohinc/Documents/Work/Golf_AI/Golfshot_Categoriser/data/raw/Metrics/DrivingRange-2024-03-03 21:03:28 +0000.csv',\n",
       "  '/Users/rokbohinc/Documents/Work/Golf_AI/Golfshot_Categoriser/data/extracted/labels/DrivingRange-2024-03-03 21:03:28 +0000.csv'),\n",
       " ('/Users/rokbohinc/Documents/Work/Golf_AI/Golfshot_Categoriser/data/raw/Metrics/DrivingRange-2024-03-03 21:06:50 +0000.csv',\n",
       "  '/Users/rokbohinc/Documents/Work/Golf_AI/Golfshot_Categoriser/data/extracted/labels/DrivingRange-2024-03-03 21:06:50 +0000.csv'),\n",
       " ('/Users/rokbohinc/Documents/Work/Golf_AI/Golfshot_Categoriser/data/raw/Metrics/DrivingRange-2024-03-03 21:18:09 +0000.csv',\n",
       "  '/Users/rokbohinc/Documents/Work/Golf_AI/Golfshot_Categoriser/data/extracted/labels/DrivingRange-2024-03-03 21:18:09 +0000.csv'),\n",
       " ('/Users/rokbohinc/Documents/Work/Golf_AI/Golfshot_Categoriser/data/raw/Metrics/DrivingRange-2024-03-03 21:20:14 +0000.csv',\n",
       "  '/Users/rokbohinc/Documents/Work/Golf_AI/Golfshot_Categoriser/data/extracted/labels/DrivingRange-2024-03-03 21:20:14 +0000.csv')]"
      ]
     },
     "execution_count": 30,
     "metadata": {},
     "output_type": "execute_result"
    }
   ],
   "source": [
    "filePaths = [(os.path.join(metricsFolder, file), os.path.join(labelsFolder, file)) for file in files]\n",
    "\n",
    "filePaths"
   ]
  },
  {
   "cell_type": "code",
   "execution_count": 32,
   "metadata": {},
   "outputs": [],
   "source": [
    "from labelExtraction import extractLabel\n",
    "\n",
    "for importPath, exportPath in filePaths:\n",
    "    extractLabel(import_path=importPath, export_path=exportPath)"
   ]
  }
 ],
 "metadata": {
  "kernelspec": {
   "display_name": "Python 3",
   "language": "python",
   "name": "python3"
  },
  "language_info": {
   "codemirror_mode": {
    "name": "ipython",
    "version": 3
   },
   "file_extension": ".py",
   "mimetype": "text/x-python",
   "name": "python",
   "nbconvert_exporter": "python",
   "pygments_lexer": "ipython3",
   "version": "3.11.4"
  }
 },
 "nbformat": 4,
 "nbformat_minor": 2
}
